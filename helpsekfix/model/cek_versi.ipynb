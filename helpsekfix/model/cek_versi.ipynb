{
 "cells": [
  {
   "cell_type": "code",
   "execution_count": 2,
   "id": "c82c4a0a",
   "metadata": {},
   "outputs": [
    {
     "name": "stdout",
     "output_type": "stream",
     "text": [
      "os                        : ❌ Tidak ditemukan (mungkin belum diinstall)\n",
      "json                      : ❌ Tidak ditemukan (mungkin belum diinstall)\n",
      "flask                     : 2.3.2\n",
      "flask_cors                : 3.0.10\n",
      "langchain                 : 0.3.27\n",
      "langchain-community       : 0.3.27\n",
      "langchain-huggingface     : 0.3.1\n",
      "langchain-google-genai    : 2.1.12\n",
      "faiss-cpu                 : 1.12.0\n",
      "langchain_ollama          : 0.3.6\n"
     ]
    }
   ],
   "source": [
    "import importlib.metadata\n",
    "\n",
    "# Daftar library yang ingin dicek versinya\n",
    "libraries = [\n",
    "    \"os\",  # built-in (tidak punya versi di metadata)\n",
    "    \"json\",  # built-in\n",
    "    \"flask\",\n",
    "    \"flask_cors\",\n",
    "    \"langchain\",\n",
    "    \"langchain-community\",\n",
    "    \"langchain-huggingface\",\n",
    "    \"langchain-google-genai\",\n",
    "    \"faiss-cpu\",  # bisa juga faiss-gpu\n",
    "    \"langchain_ollama\"\n",
    "]\n",
    "\n",
    "# from langchain_ollama import ChatOllama\n",
    "\n",
    "# print(\"📦 Versi Library yang Terpasang:\\n\")\n",
    "\n",
    "for lib in libraries:\n",
    "    try:\n",
    "        version = importlib.metadata.version(lib)\n",
    "        print(f\"{lib:<25} : {version}\")\n",
    "    except importlib.metadata.PackageNotFoundError:\n",
    "        print(f\"{lib:<25} : ❌ Tidak ditemukan (mungkin belum diinstall)\")\n",
    "    except Exception as e:\n",
    "        print(f\"{lib:<25} : ⚠️ Error saat cek versi ({e})\")\n"
   ]
  },
  {
   "cell_type": "code",
   "execution_count": null,
   "id": "abe331f6",
   "metadata": {},
   "outputs": [],
   "source": []
  }
 ],
 "metadata": {
  "kernelspec": {
   "display_name": "Python 3",
   "language": "python",
   "name": "python3"
  },
  "language_info": {
   "codemirror_mode": {
    "name": "ipython",
    "version": 3
   },
   "file_extension": ".py",
   "mimetype": "text/x-python",
   "name": "python",
   "nbconvert_exporter": "python",
   "pygments_lexer": "ipython3",
   "version": "3.11.3"
  }
 },
 "nbformat": 4,
 "nbformat_minor": 5
}
